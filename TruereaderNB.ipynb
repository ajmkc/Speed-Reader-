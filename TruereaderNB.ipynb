{
 "cells": [
  {
   "cell_type": "code",
   "execution_count": 1,
   "metadata": {},
   "outputs": [
    {
     "name": "stdout",
     "output_type": "stream",
     "text": [
      "Fortune Tellers\n",
      "\n",
      " A young couple entered the restaurant in Andy’s view. \n",
      "\n",
      "They were holding hands.\n",
      "\n",
      "Andy sat back down in his chair.\n",
      "\n",
      "He felt sick.\n",
      "\n",
      "He turned and faced his father, who was eating xôi.\n",
      "\n",
      "“What’s the matter, son?” asked his father.\n",
      "\n",
      "“I thought you were going to the birthday party.”\n",
      "\n",
      "“It’s too late.” “Are you sure?” Andy nodded.\n",
      "\n",
      "He looked at the plate of xôi.\n",
      "\n",
      "He wanted to bury his face in it.\n",
      "\n",
      "“Hi, Andy.” A voice came from behind. \n",
      "\n",
      "Andy looked up. \n",
      "\n",
      "He recognized the beautiful face, and he refused to meet her eyes. \n",
      "\n",
      "“Hi, Jennifer,” muttered Andy, looking at the floor.\n",
      "\n",
      "“You didn’t miss much, Andy. \n",
      "\n",
      "The party was dead. \n",
      "\n",
      "I was looking for you, hoping you could give me a ride home.\n",
      "\n",
      "Then I met Tim, and he was bored like me.\n",
      "\n",
      "And he said he’d take me home.... Andy, do you want to eat with us? \n",
      "\n",
      "I’ll introduce you to Tim.”\n",
      "\n",
      "Andy said, “No, I’m eating xôi with my father.”\n",
      "\n",
      "“Well, I’ll see you in school then, okay?”\n",
      "\n",
      "“Yeah.” And Andy watched her socks move away from his view.\n",
      "\n",
      "Andy grabbed a chunk of xôi. \n",
      "\n",
      "The rice and beans stuck to his fingernails. \n",
      "\n",
      "He placed the chunk in his mouth and pulled it away from his fingers with his teeth. \n",
      "\n",
      "There was a dry bitter taste. \n",
      "\n",
      "But nothing could be as bitter as he was, so he chewed some more.\n",
      "\n",
      "The bitterness faded as the xôi became softer in his mouth, but it was still tasteless. \n",
      "\n",
      "He could hear the young couple talk and giggle. \n",
      "\n",
      "Their words and laughter and the sounds of his own chewing mixed into a sticky mess. \n",
      "\n",
      "The words were bitter and the laughter was tasteless, and once he began to understand this, he tasted the sweetness of xôi.\n",
      "\n",
      "Andy enjoyed swallowing the sticky mess down. \n",
      "\n",
      "Andy swallowed everything down—sweetness and bitterness and nothingness and what he thought was love.\n",
      "\n",
      "Adapted from Nguyen Duc Minh, “Fortune Tellers.” in the collection American Eyes.©1994 by H. Holt\n",
      "Move on to the quiz.\n"
     ]
    },
    {
     "data": {
      "text/plain": [
       "True"
      ]
     },
     "execution_count": 1,
     "metadata": {},
     "output_type": "execute_result"
    }
   ],
   "source": [
    "import random \n",
    "import time\n",
    "import webbrowser\n",
    "import os\n",
    "x = random.randint(1, 3)\n",
    "c = 0\n",
    "f = open(\"Truetest.txt\",\"r\")    \n",
    "y = random.randint(1, 2)\n",
    "if y==1:\n",
    "    print(f.read())\n",
    "    for i in range(1,121):\n",
    "        time.sleep(1)\n",
    "        if i == 120:\n",
    "            break\n",
    "if y==2:\n",
    "    while c < 36:\n",
    "        print(f.readline())\n",
    "        c+=1\n",
    "        time.sleep(3)\n",
    "    for i in range(1,13):\n",
    "        time.sleep(1)\n",
    "        if i == 12:\n",
    "            break\n",
    "os.system('cls')      \n",
    "print(\"Move on to the quiz.\")\n",
    "time.sleep(3)\n",
    "url = 'https://codepen.io/pen/?template=VwaObrB'\n",
    "webbrowser.open_new(url)\n"
   ]
  },
  {
   "cell_type": "code",
   "execution_count": null,
   "metadata": {},
   "outputs": [],
   "source": []
  }
 ],
 "metadata": {
  "kernelspec": {
   "display_name": "Python 3",
   "language": "python",
   "name": "python3"
  },
  "language_info": {
   "codemirror_mode": {
    "name": "ipython",
    "version": 3
   },
   "file_extension": ".py",
   "mimetype": "text/x-python",
   "name": "python",
   "nbconvert_exporter": "python",
   "pygments_lexer": "ipython3",
   "version": "3.7.4"
  }
 },
 "nbformat": 4,
 "nbformat_minor": 2
}
